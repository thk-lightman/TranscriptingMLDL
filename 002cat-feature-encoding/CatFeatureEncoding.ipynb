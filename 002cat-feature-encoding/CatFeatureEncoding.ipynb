{
 "cells": [
  {
   "cell_type": "markdown",
   "metadata": {},
   "source": [
    "- https://www.kaggle.com/c/cat-in-the-dat\n",
    "\n",
    "- EDA\n",
    "  - https://www.kaggle.com/kabure/eda-feat-engineering-encode-conquer\n",
    "  - https://www.kaggle.com/werooring/ch7-eda\n",
    "\n",
    "- BASELINE\n",
    "  - https://www.kaggle.com/werooring/ch7-baseline\n",
    "\n",
    "\n",
    "- MODEL MODIFIED\n",
    "  - https://www.kaggle.com/werooring/ch7-modeling\n",
    "  - https://www.kaggle.com/werooring/ch7-modeling2\n",
    "\n",
    "\n",
    "- https://www.kaggle.com/werooring/ch7-notebook\n",
    "\n",
    "#TYPE: binary classification\n",
    "#SCORING: ROC AUC\n",
    "#EDA: feature summary, distribution, binary/nomial/ordinal/date data\n",
    "#MODEL: logistic regression\n",
    "#FE: one hot encoding, scaling\n"
   ]
  },
  {
   "cell_type": "code",
   "execution_count": 2,
   "metadata": {},
   "outputs": [],
   "source": [
    "import pandas as pd\n",
    "\n",
    "import matplotlib as mpl\n",
    "import matplotlib.pyplot as plt\n",
    "import seaborn as sns\n",
    "\n",
    "import sklearn\n",
    "import scipy\n",
    "\n",
    "import os"
   ]
  },
  {
   "cell_type": "code",
   "execution_count": null,
   "metadata": {},
   "outputs": [],
   "source": []
  },
  {
   "cell_type": "code",
   "execution_count": null,
   "metadata": {},
   "outputs": [],
   "source": [
    "data_path = '/Users/mori/GIT/forLightman/Transcription/TranscriptingMLDL/002cat-feature-encoding/data'\n",
    "train = pd.read_csv(os.join())\n"
   ]
  },
  {
   "cell_type": "markdown",
   "metadata": {},
   "source": [
    "# EDA\n",
    "- PROCESS: `LOOK AROUND DATA`: FEATRUE SUMMARY → `VISUALIZATION`: TARGET DISTRIBUTION, EXPLAIN VAR DISTRIBUTION → `SUMMARY` & `MODELING STRATEGY`"
   ]
  },
  {
   "cell_type": "code",
   "execution_count": null,
   "metadata": {},
   "outputs": [],
   "source": []
  }
 ],
 "metadata": {
  "kernelspec": {
   "display_name": "nightwhale",
   "language": "python",
   "name": "transcriptingmldl-ezvlh02a-py3.9"
  },
  "language_info": {
   "codemirror_mode": {
    "name": "ipython",
    "version": 3
   },
   "file_extension": ".py",
   "mimetype": "text/x-python",
   "name": "python",
   "nbconvert_exporter": "python",
   "pygments_lexer": "ipython3",
   "version": "3.9.13"
  },
  "orig_nbformat": 4
 },
 "nbformat": 4,
 "nbformat_minor": 2
}
